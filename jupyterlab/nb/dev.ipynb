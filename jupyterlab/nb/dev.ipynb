{
 "cells": [
  {
   "cell_type": "markdown",
   "id": "d6a18f3f-4e00-4ec5-91f8-f8be18450fe1",
   "metadata": {
    "tags": []
   },
   "source": [
    "# sample dev notebook"
   ]
  },
  {
   "cell_type": "code",
   "execution_count": 1,
   "id": "08643617-2e59-4ef7-810d-efcc6c44a33b",
   "metadata": {},
   "outputs": [
    {
     "name": "stdout",
     "output_type": "stream",
     "text": [
      "/Users/ken/wk/experiments/py/python-environment/jupyterlab\n"
     ]
    }
   ],
   "source": [
    "cd .."
   ]
  },
  {
   "cell_type": "code",
   "execution_count": 2,
   "id": "f75e2618-5db6-4701-8301-1e55b5a25f0c",
   "metadata": {},
   "outputs": [],
   "source": [
    "from lib.devlib import test"
   ]
  },
  {
   "cell_type": "code",
   "execution_count": 3,
   "id": "51c84989-2d77-4d79-9004-b0cf6e1d93f7",
   "metadata": {},
   "outputs": [
    {
     "name": "stdout",
     "output_type": "stream",
     "text": [
      "test from lib: hi\n"
     ]
    }
   ],
   "source": [
    "test()"
   ]
  },
  {
   "cell_type": "code",
   "execution_count": null,
   "id": "96d1b746-6cd3-42da-a4a8-0cc2590f1fb0",
   "metadata": {},
   "outputs": [],
   "source": []
  }
 ],
 "metadata": {
  "kernelspec": {
   "display_name": "Python 3 (ipykernel)",
   "language": "python",
   "name": "python3"
  },
  "language_info": {
   "codemirror_mode": {
    "name": "ipython",
    "version": 3
   },
   "file_extension": ".py",
   "mimetype": "text/x-python",
   "name": "python",
   "nbconvert_exporter": "python",
   "pygments_lexer": "ipython3",
   "version": "3.10.3"
  }
 },
 "nbformat": 4,
 "nbformat_minor": 5
}
